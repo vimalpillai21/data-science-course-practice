{
 "cells": [
  {
   "cell_type": "code",
   "execution_count": 1,
   "metadata": {},
   "outputs": [],
   "source": [
    "import numpy as np\n",
    "import pandas as pd\n",
    "import matplotlib.pyplot as plt\n",
    "%matplotlib inline"
   ]
  },
  {
   "cell_type": "code",
   "execution_count": 2,
   "metadata": {},
   "outputs": [],
   "source": [
    "from sklearn.datasets import load_boston"
   ]
  },
  {
   "cell_type": "code",
   "execution_count": 3,
   "metadata": {},
   "outputs": [],
   "source": [
    "boston = load_boston()"
   ]
  },
  {
   "cell_type": "code",
   "execution_count": 4,
   "metadata": {},
   "outputs": [
    {
     "data": {
      "text/plain": [
       "dict_keys(['data', 'target', 'feature_names', 'DESCR', 'filename'])"
      ]
     },
     "execution_count": 4,
     "metadata": {},
     "output_type": "execute_result"
    }
   ],
   "source": [
    "boston.keys()"
   ]
  },
  {
   "cell_type": "code",
   "execution_count": 5,
   "metadata": {},
   "outputs": [
    {
     "name": "stdout",
     "output_type": "stream",
     "text": [
      "[[6.3200e-03 1.8000e+01 2.3100e+00 ... 1.5300e+01 3.9690e+02 4.9800e+00]\n",
      " [2.7310e-02 0.0000e+00 7.0700e+00 ... 1.7800e+01 3.9690e+02 9.1400e+00]\n",
      " [2.7290e-02 0.0000e+00 7.0700e+00 ... 1.7800e+01 3.9283e+02 4.0300e+00]\n",
      " ...\n",
      " [6.0760e-02 0.0000e+00 1.1930e+01 ... 2.1000e+01 3.9690e+02 5.6400e+00]\n",
      " [1.0959e-01 0.0000e+00 1.1930e+01 ... 2.1000e+01 3.9345e+02 6.4800e+00]\n",
      " [4.7410e-02 0.0000e+00 1.1930e+01 ... 2.1000e+01 3.9690e+02 7.8800e+00]]\n"
     ]
    }
   ],
   "source": [
    "print(boston['data'])"
   ]
  },
  {
   "cell_type": "code",
   "execution_count": 9,
   "metadata": {},
   "outputs": [],
   "source": [
    "df = pd.DataFrame(boston.data, columns=boston.feature_names)"
   ]
  },
  {
   "cell_type": "code",
   "execution_count": 15,
   "metadata": {},
   "outputs": [
    {
     "data": {
      "text/plain": [
       "Index(['CRIM', 'ZN', 'INDUS', 'CHAS', 'NOX', 'RM', 'AGE', 'DIS', 'RAD', 'TAX',\n",
       "       'PTRATIO', 'B', 'LSTAT'],\n",
       "      dtype='object')"
      ]
     },
     "execution_count": 15,
     "metadata": {},
     "output_type": "execute_result"
    }
   ],
   "source": [
    "df.columns"
   ]
  },
  {
   "cell_type": "code",
   "execution_count": 17,
   "metadata": {},
   "outputs": [],
   "source": [
    "X = df[['CRIM', 'ZN', 'INDUS', 'CHAS', 'NOX', 'RM', 'DIS', 'RAD', 'TAX',\n",
    "       'PTRATIO', 'B', 'LSTAT']]\n",
    "y = df['AGE']"
   ]
  },
  {
   "cell_type": "code",
   "execution_count": 18,
   "metadata": {},
   "outputs": [],
   "source": [
    "from sklearn.model_selection import train_test_split\n",
    "X_train, X_test, y_train, y_test = train_test_split(X,y,test_size=0.4,random_state=101)"
   ]
  },
  {
   "cell_type": "code",
   "execution_count": 19,
   "metadata": {},
   "outputs": [],
   "source": [
    "from sklearn.linear_model import LinearRegression"
   ]
  },
  {
   "cell_type": "code",
   "execution_count": 20,
   "metadata": {},
   "outputs": [
    {
     "data": {
      "text/plain": [
       "LinearRegression(copy_X=True, fit_intercept=True, n_jobs=None, normalize=False)"
      ]
     },
     "execution_count": 20,
     "metadata": {},
     "output_type": "execute_result"
    }
   ],
   "source": [
    "ln = LinearRegression()\n",
    "ln.fit(X_train,y_train)"
   ]
  },
  {
   "cell_type": "code",
   "execution_count": 23,
   "metadata": {},
   "outputs": [
    {
     "name": "stdout",
     "output_type": "stream",
     "text": [
      "-49.15226618300299\n"
     ]
    }
   ],
   "source": [
    "print(ln.intercept_)"
   ]
  },
  {
   "cell_type": "code",
   "execution_count": 24,
   "metadata": {},
   "outputs": [
    {
     "data": {
      "text/plain": [
       "array([-1.39543811e-04, -1.26214756e-01, -1.12264055e-01,  6.32075956e+00,\n",
       "        9.32648513e+01,  6.72083766e+00, -4.10099222e+00, -3.06556580e-01,\n",
       "       -1.58741571e-03,  1.41493863e+00,  1.45507927e-02,  1.19148775e+00])"
      ]
     },
     "execution_count": 24,
     "metadata": {},
     "output_type": "execute_result"
    }
   ],
   "source": [
    "ln.coef_"
   ]
  },
  {
   "cell_type": "code",
   "execution_count": 25,
   "metadata": {},
   "outputs": [],
   "source": [
    "cdf = pd.DataFrame(ln.coef_,X.columns,columns=['Coeff'])"
   ]
  },
  {
   "cell_type": "code",
   "execution_count": 26,
   "metadata": {},
   "outputs": [
    {
     "data": {
      "text/html": [
       "<div>\n",
       "<style scoped>\n",
       "    .dataframe tbody tr th:only-of-type {\n",
       "        vertical-align: middle;\n",
       "    }\n",
       "\n",
       "    .dataframe tbody tr th {\n",
       "        vertical-align: top;\n",
       "    }\n",
       "\n",
       "    .dataframe thead th {\n",
       "        text-align: right;\n",
       "    }\n",
       "</style>\n",
       "<table border=\"1\" class=\"dataframe\">\n",
       "  <thead>\n",
       "    <tr style=\"text-align: right;\">\n",
       "      <th></th>\n",
       "      <th>Coeff</th>\n",
       "    </tr>\n",
       "  </thead>\n",
       "  <tbody>\n",
       "    <tr>\n",
       "      <th>CRIM</th>\n",
       "      <td>-0.000140</td>\n",
       "    </tr>\n",
       "    <tr>\n",
       "      <th>ZN</th>\n",
       "      <td>-0.126215</td>\n",
       "    </tr>\n",
       "    <tr>\n",
       "      <th>INDUS</th>\n",
       "      <td>-0.112264</td>\n",
       "    </tr>\n",
       "    <tr>\n",
       "      <th>CHAS</th>\n",
       "      <td>6.320760</td>\n",
       "    </tr>\n",
       "    <tr>\n",
       "      <th>NOX</th>\n",
       "      <td>93.264851</td>\n",
       "    </tr>\n",
       "    <tr>\n",
       "      <th>RM</th>\n",
       "      <td>6.720838</td>\n",
       "    </tr>\n",
       "    <tr>\n",
       "      <th>DIS</th>\n",
       "      <td>-4.100992</td>\n",
       "    </tr>\n",
       "    <tr>\n",
       "      <th>RAD</th>\n",
       "      <td>-0.306557</td>\n",
       "    </tr>\n",
       "    <tr>\n",
       "      <th>TAX</th>\n",
       "      <td>-0.001587</td>\n",
       "    </tr>\n",
       "    <tr>\n",
       "      <th>PTRATIO</th>\n",
       "      <td>1.414939</td>\n",
       "    </tr>\n",
       "    <tr>\n",
       "      <th>B</th>\n",
       "      <td>0.014551</td>\n",
       "    </tr>\n",
       "    <tr>\n",
       "      <th>LSTAT</th>\n",
       "      <td>1.191488</td>\n",
       "    </tr>\n",
       "  </tbody>\n",
       "</table>\n",
       "</div>"
      ],
      "text/plain": [
       "             Coeff\n",
       "CRIM     -0.000140\n",
       "ZN       -0.126215\n",
       "INDUS    -0.112264\n",
       "CHAS      6.320760\n",
       "NOX      93.264851\n",
       "RM        6.720838\n",
       "DIS      -4.100992\n",
       "RAD      -0.306557\n",
       "TAX      -0.001587\n",
       "PTRATIO   1.414939\n",
       "B         0.014551\n",
       "LSTAT     1.191488"
      ]
     },
     "execution_count": 26,
     "metadata": {},
     "output_type": "execute_result"
    }
   ],
   "source": [
    "cdf"
   ]
  },
  {
   "cell_type": "code",
   "execution_count": 27,
   "metadata": {},
   "outputs": [
    {
     "data": {
      "text/plain": [
       "array([ 37.83840597,  53.80419793,  87.62768625,  89.7129394 ,\n",
       "        38.61949168,  60.11863867,  76.68163897,  88.13701423,\n",
       "        73.42286095, 101.6075419 ,  25.01077216,  98.29232028,\n",
       "        67.34342949,  16.04464275,  74.286381  ,  82.14758893,\n",
       "        94.79151319,  38.94935802,  59.76783582,  59.93584379,\n",
       "       101.39989747,  58.36316995,  77.34076575,  32.02029345,\n",
       "        41.15227449,  95.40391338,  70.49842886,  94.56513224,\n",
       "        88.09824608,  27.45945135,  36.5726197 ,  70.15987607,\n",
       "        30.44419725,  40.32991806,  86.26591701,  62.05635029,\n",
       "        91.68698206,  72.81635792, 111.9566149 ,  65.02085719,\n",
       "        63.36391161,  17.01801039,  64.64674083,  94.02331604,\n",
       "        77.90209266,  70.97576358,  66.34404956,  96.93085721,\n",
       "        48.78539343,  37.58207988,  62.86962038, 104.92712455,\n",
       "        74.68430036,  69.63585222,  56.42074199, 105.4452751 ,\n",
       "        75.94568289,  83.96030761,  75.07467282, 100.88729752,\n",
       "        26.23481537, 109.26730488,  66.90820677,  26.49526058,\n",
       "        93.27449935,  76.60154666,  62.29644151,  41.3730373 ,\n",
       "       100.21086465,  60.42384794,  70.61248244,  54.62113145,\n",
       "       111.53506639,  90.14037389,  45.08836459, 108.19571454,\n",
       "        73.46095573,  70.5903966 ,  66.97068036,  99.77463561,\n",
       "        75.04101947,  89.16575003,  62.63192565, 101.55553866,\n",
       "        70.92727544,  48.78831939,  81.30581263,  48.61506417,\n",
       "        64.02218573,  73.36511846,  98.88672174, 116.7238794 ,\n",
       "        88.200875  ,  84.50958062, 106.37283798,  70.5708542 ,\n",
       "       116.51048631,  66.78298768,  98.93697541,  40.85463745,\n",
       "        65.32376176,  77.73822208,  29.84482788,  44.95273086,\n",
       "        68.83998026,  63.092027  ,  60.66507858,  24.91985431,\n",
       "        73.05735493,  17.92900617,  73.38654132,  69.7878072 ,\n",
       "        48.77861517,  66.40128084,  40.74506467,  66.07856368,\n",
       "        19.72902109,  31.26881977,  75.10690271,  28.82909311,\n",
       "        92.09391011,  66.43273251,  17.75083754,  55.04153768,\n",
       "        19.51437907,  65.07966543,  83.92166143, 102.45513104,\n",
       "        97.34157652,  38.85032215,  68.01578343,  46.63964871,\n",
       "        40.78551498,  81.05447586,  82.11559018,  70.52415528,\n",
       "        70.01181355,  47.21903584,  66.81608424,  57.93222505,\n",
       "       103.16074991,  33.43706749,  67.13471809,  87.22775161,\n",
       "        34.66489967,  64.71958441,  64.40419572,  63.3725501 ,\n",
       "        67.86175091,  50.96953663,  74.01328057,  93.90329228,\n",
       "        38.70238505,  85.60671233,  67.66849987,  60.43860918,\n",
       "        43.09327872,  92.47979095, 100.52298669,  58.56326909,\n",
       "        81.46130998,  52.87256078,  87.54551066,  35.97542916,\n",
       "        33.43439036,  82.10712713,  56.05702379,  67.53116029,\n",
       "        96.23685101, 102.45340028,  92.36596568,  44.96202695,\n",
       "        80.72906475,  63.01880719,  90.76128559,  79.92630452,\n",
       "        49.30601505,  85.45180867,  44.67980653,  54.53545311,\n",
       "        76.76103664,  56.33692739,  80.26739255,  78.2391588 ,\n",
       "        75.73987612,  65.81818942,  83.41226064,  92.85069369,\n",
       "        51.10388105, 102.84777909,  48.64377679,  52.97889193,\n",
       "       116.02885738,  78.55052175,  90.87867297,  66.86526542,\n",
       "        97.1010717 ,  73.25246993,  56.10575661,  76.13725527,\n",
       "        86.01942461,  71.02800708,  58.69353205])"
      ]
     },
     "execution_count": 27,
     "metadata": {},
     "output_type": "execute_result"
    }
   ],
   "source": [
    "predictions = ln.predict(X_test)\n",
    "predictions"
   ]
  },
  {
   "cell_type": "code",
   "execution_count": null,
   "metadata": {},
   "outputs": [],
   "source": []
  }
 ],
 "metadata": {
  "kernelspec": {
   "display_name": "Python 3",
   "language": "python",
   "name": "python3"
  },
  "language_info": {
   "codemirror_mode": {
    "name": "ipython",
    "version": 3
   },
   "file_extension": ".py",
   "mimetype": "text/x-python",
   "name": "python",
   "nbconvert_exporter": "python",
   "pygments_lexer": "ipython3",
   "version": "3.7.6"
  }
 },
 "nbformat": 4,
 "nbformat_minor": 4
}
